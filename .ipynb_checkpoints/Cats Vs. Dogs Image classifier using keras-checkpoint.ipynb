{
 "cells": [
  {
   "cell_type": "markdown",
   "metadata": {},
   "source": [
    "## Cats Vs. Dogs Image classifier using keras"
   ]
  },
  {
   "cell_type": "code",
   "execution_count": 1,
   "metadata": {},
   "outputs": [
    {
     "name": "stderr",
     "output_type": "stream",
     "text": [
      "Using TensorFlow backend.\n"
     ]
    }
   ],
   "source": [
    "from keras.preprocessing.image import ImageDataGenerator\n",
    "from keras.models import Sequential\n",
    "from keras.layers import Conv2D, MaxPooling2D\n",
    "from keras.layers import Activation, Dropout, Flatten, Dense\n",
    "from keras import backend as K\n",
    "import numpy as np"
   ]
  },
  {
   "cell_type": "code",
   "execution_count": 2,
   "metadata": {},
   "outputs": [
    {
     "data": {
      "text/plain": [
       "'channels_last'"
      ]
     },
     "execution_count": 2,
     "metadata": {},
     "output_type": "execute_result"
    }
   ],
   "source": [
    "K.image_data_format()"
   ]
  },
  {
   "cell_type": "markdown",
   "metadata": {},
   "source": [
    "### Creating Model"
   ]
  },
  {
   "cell_type": "code",
   "execution_count": 3,
   "metadata": {},
   "outputs": [],
   "source": [
    "model = Sequential()\n",
    "model.add(Conv2D(32,(3,3),input_shape=(150, 150,3)))\n",
    "model.add(Activation(\"relu\"))\n",
    "model.add(MaxPooling2D(pool_size=(2,2)))\n",
    "\n",
    "model.add(Conv2D(32,(3,3)))\n",
    "model.add(Activation(\"relu\"))\n",
    "model.add(MaxPooling2D(pool_size=(2,2)))\n",
    "\n",
    "model.add(Conv2D(64,(3,3)))\n",
    "model.add(Activation(\"relu\"))\n",
    "model.add(MaxPooling2D(pool_size=(2,2)))\n",
    "\n",
    "model.add(Flatten())\n",
    "model.add(Dense(64))\n",
    "model.add(Activation('relu'))\n",
    "model.add(Dropout(0.5))\n",
    "model.add(Dense(1))\n",
    "model.add(Activation('sigmoid'))"
   ]
  },
  {
   "cell_type": "code",
   "execution_count": 4,
   "metadata": {},
   "outputs": [],
   "source": [
    "model.compile(loss='binary_crossentropy',\n",
    "              optimizer='rmsprop',\n",
    "              metrics=['accuracy'])\n"
   ]
  },
  {
   "cell_type": "code",
   "execution_count": 5,
   "metadata": {},
   "outputs": [
    {
     "name": "stdout",
     "output_type": "stream",
     "text": [
      "Found 2879 images belonging to 2 classes.\n",
      "Found 802 images belonging to 2 classes.\n"
     ]
    }
   ],
   "source": [
    "train_samples = 2000\n",
    "validation_samples = 800\n",
    "epochs = 50\n",
    "batch_size = 16\n",
    "train_data = ImageDataGenerator(\n",
    "    rescale=1. / 255,\n",
    "    shear_range=0.2,\n",
    "    zoom_range=0.2,\n",
    "    horizontal_flip=True)\n",
    "\n",
    "test_data = ImageDataGenerator(rescale=1. / 255)\n",
    "\n",
    "train_generator = train_data.flow_from_directory(\n",
    "    'data/train',\n",
    "    target_size=(150, 150),\n",
    "    batch_size=batch_size,\n",
    "    class_mode='binary')\n",
    "\n",
    "validation_generator = test_data.flow_from_directory(\n",
    "    'data/validation',\n",
    "    target_size=(150, 150),\n",
    "    batch_size=batch_size,\n",
    "    class_mode='binary')"
   ]
  },
  {
   "cell_type": "markdown",
   "metadata": {},
   "source": [
    "### Training Model"
   ]
  },
  {
   "cell_type": "code",
   "execution_count": 6,
   "metadata": {},
   "outputs": [
    {
     "name": "stdout",
     "output_type": "stream",
     "text": [
      "Epoch 1/50\n",
      "125/125 [==============================] - 144s 1s/step - loss: 0.6688 - acc: 0.6475 - val_loss: 0.6785 - val_acc: 0.5038\n",
      "Epoch 2/50\n",
      "125/125 [==============================] - 152s 1s/step - loss: 0.6141 - acc: 0.6664 - val_loss: 0.6473 - val_acc: 0.5550\n",
      "Epoch 3/50\n",
      "125/125 [==============================] - 141s 1s/step - loss: 0.5942 - acc: 0.6764 - val_loss: 0.7008 - val_acc: 0.5450\n",
      "Epoch 4/50\n",
      "125/125 [==============================] - 158s 1s/step - loss: 0.5816 - acc: 0.6878 - val_loss: 0.7358 - val_acc: 0.5300\n",
      "Epoch 5/50\n",
      "125/125 [==============================] - 141s 1s/step - loss: 0.5838 - acc: 0.7095 - val_loss: 0.6863 - val_acc: 0.6288\n",
      "Epoch 6/50\n",
      "125/125 [==============================] - 136s 1s/step - loss: 0.5645 - acc: 0.7139 - val_loss: 0.6533 - val_acc: 0.6388\n",
      "Epoch 7/50\n",
      "125/125 [==============================] - 139s 1s/step - loss: 0.5609 - acc: 0.7063 - val_loss: 0.6726 - val_acc: 0.5763\n",
      "Epoch 8/50\n",
      "125/125 [==============================] - 132s 1s/step - loss: 0.5504 - acc: 0.7183 - val_loss: 0.5758 - val_acc: 0.7137\n",
      "Epoch 9/50\n",
      "125/125 [==============================] - 131s 1s/step - loss: 0.5314 - acc: 0.7350 - val_loss: 0.7209 - val_acc: 0.6538\n",
      "Epoch 10/50\n",
      "125/125 [==============================] - 130s 1s/step - loss: 0.5420 - acc: 0.7418 - val_loss: 0.5890 - val_acc: 0.6837\n",
      "Epoch 11/50\n",
      "125/125 [==============================] - 130s 1s/step - loss: 0.5117 - acc: 0.7523 - val_loss: 0.5801 - val_acc: 0.7087\n",
      "Epoch 12/50\n",
      "125/125 [==============================] - 130s 1s/step - loss: 0.5232 - acc: 0.7530 - val_loss: 0.5536 - val_acc: 0.7100\n",
      "Epoch 13/50\n",
      "125/125 [==============================] - 130s 1s/step - loss: 0.4958 - acc: 0.7529 - val_loss: 0.5128 - val_acc: 0.7588\n",
      "Epoch 14/50\n",
      "125/125 [==============================] - 130s 1s/step - loss: 0.4919 - acc: 0.7750 - val_loss: 0.5206 - val_acc: 0.7412\n",
      "Epoch 15/50\n",
      "125/125 [==============================] - 130s 1s/step - loss: 0.5048 - acc: 0.7509 - val_loss: 0.7350 - val_acc: 0.6763\n",
      "Epoch 16/50\n",
      "125/125 [==============================] - 130s 1s/step - loss: 0.4831 - acc: 0.7679 - val_loss: 0.4970 - val_acc: 0.7688\n",
      "Epoch 17/50\n",
      "125/125 [==============================] - 132s 1s/step - loss: 0.4816 - acc: 0.7733 - val_loss: 0.4775 - val_acc: 0.7738\n",
      "Epoch 18/50\n",
      "125/125 [==============================] - 131s 1s/step - loss: 0.4834 - acc: 0.7763 - val_loss: 0.6954 - val_acc: 0.7037\n",
      "Epoch 19/50\n",
      "125/125 [==============================] - 130s 1s/step - loss: 0.4603 - acc: 0.7830 - val_loss: 0.5272 - val_acc: 0.7612\n",
      "Epoch 20/50\n",
      "125/125 [==============================] - 130s 1s/step - loss: 0.4670 - acc: 0.7799 - val_loss: 0.5042 - val_acc: 0.7775\n",
      "Epoch 21/50\n",
      "125/125 [==============================] - 131s 1s/step - loss: 0.4762 - acc: 0.7725 - val_loss: 0.4928 - val_acc: 0.7538\n",
      "Epoch 22/50\n",
      "125/125 [==============================] - 131s 1s/step - loss: 0.4478 - acc: 0.7809 - val_loss: 0.4883 - val_acc: 0.7650\n",
      "Epoch 23/50\n",
      "125/125 [==============================] - 131s 1s/step - loss: 0.4642 - acc: 0.8009 - val_loss: 0.5153 - val_acc: 0.7438\n",
      "Epoch 24/50\n",
      "125/125 [==============================] - 133s 1s/step - loss: 0.4308 - acc: 0.8028 - val_loss: 0.5336 - val_acc: 0.7425\n",
      "Epoch 25/50\n",
      "125/125 [==============================] - 138s 1s/step - loss: 0.4628 - acc: 0.7875 - val_loss: 0.5094 - val_acc: 0.7488\n",
      "Epoch 26/50\n",
      "125/125 [==============================] - 136s 1s/step - loss: 0.4238 - acc: 0.8129 - val_loss: 0.4898 - val_acc: 0.7438\n",
      "Epoch 27/50\n",
      "125/125 [==============================] - 131s 1s/step - loss: 0.4354 - acc: 0.8148 - val_loss: 0.7040 - val_acc: 0.6900\n",
      "Epoch 28/50\n",
      "125/125 [==============================] - 138s 1s/step - loss: 0.4560 - acc: 0.7975 - val_loss: 0.6985 - val_acc: 0.6863\n",
      "Epoch 29/50\n",
      "125/125 [==============================] - 131s 1s/step - loss: 0.4525 - acc: 0.8005 - val_loss: 0.4703 - val_acc: 0.7738\n",
      "Epoch 30/50\n",
      "125/125 [==============================] - 133s 1s/step - loss: 0.4218 - acc: 0.8130 - val_loss: 0.5617 - val_acc: 0.7500\n",
      "Epoch 31/50\n",
      "125/125 [==============================] - 127s 1s/step - loss: 0.4375 - acc: 0.8154 - val_loss: 0.6645 - val_acc: 0.7125\n",
      "Epoch 32/50\n",
      "125/125 [==============================] - 128s 1s/step - loss: 0.4179 - acc: 0.8142 - val_loss: 0.5092 - val_acc: 0.7575\n",
      "Epoch 33/50\n",
      "125/125 [==============================] - 126s 1s/step - loss: 0.4328 - acc: 0.8085 - val_loss: 0.5449 - val_acc: 0.7312\n",
      "Epoch 34/50\n",
      "125/125 [==============================] - 135s 1s/step - loss: 0.4203 - acc: 0.8115 - val_loss: 0.8016 - val_acc: 0.6750\n",
      "Epoch 35/50\n",
      "125/125 [==============================] - 130s 1s/step - loss: 0.4256 - acc: 0.8083 - val_loss: 0.4962 - val_acc: 0.7675\n",
      "Epoch 36/50\n",
      "125/125 [==============================] - 129s 1s/step - loss: 0.4216 - acc: 0.8000 - val_loss: 0.5434 - val_acc: 0.7425\n",
      "Epoch 37/50\n",
      "125/125 [==============================] - 136s 1s/step - loss: 0.4305 - acc: 0.8104 - val_loss: 0.5217 - val_acc: 0.7738\n",
      "Epoch 38/50\n",
      "125/125 [==============================] - 138s 1s/step - loss: 0.4030 - acc: 0.8199 - val_loss: 0.4915 - val_acc: 0.7662\n",
      "Epoch 39/50\n",
      "125/125 [==============================] - 141s 1s/step - loss: 0.4141 - acc: 0.8180 - val_loss: 0.4783 - val_acc: 0.7875\n",
      "Epoch 40/50\n",
      "125/125 [==============================] - 131s 1s/step - loss: 0.4060 - acc: 0.8323 - val_loss: 0.4593 - val_acc: 0.7788\n",
      "Epoch 41/50\n",
      "125/125 [==============================] - 132s 1s/step - loss: 0.4228 - acc: 0.8175 - val_loss: 0.5775 - val_acc: 0.7288\n",
      "Epoch 42/50\n",
      "125/125 [==============================] - 144s 1s/step - loss: 0.4260 - acc: 0.8208 - val_loss: 0.5033 - val_acc: 0.7500\n",
      "Epoch 43/50\n",
      "125/125 [==============================] - 134s 1s/step - loss: 0.3961 - acc: 0.8295 - val_loss: 0.4751 - val_acc: 0.7925\n",
      "Epoch 44/50\n",
      "125/125 [==============================] - 130s 1s/step - loss: 0.3976 - acc: 0.8320 - val_loss: 0.4709 - val_acc: 0.7837\n",
      "Epoch 45/50\n",
      "125/125 [==============================] - 139s 1s/step - loss: 0.4050 - acc: 0.8280 - val_loss: 0.5346 - val_acc: 0.7538\n",
      "Epoch 46/50\n",
      "125/125 [==============================] - 135s 1s/step - loss: 0.4047 - acc: 0.8289 - val_loss: 0.5088 - val_acc: 0.7738\n",
      "Epoch 47/50\n",
      "125/125 [==============================] - 130s 1s/step - loss: 0.4217 - acc: 0.8174 - val_loss: 0.4483 - val_acc: 0.7800\n",
      "Epoch 48/50\n",
      "125/125 [==============================] - 133s 1s/step - loss: 0.3740 - acc: 0.8325 - val_loss: 0.4424 - val_acc: 0.8025\n",
      "Epoch 49/50\n",
      "125/125 [==============================] - 132s 1s/step - loss: 0.3950 - acc: 0.8344 - val_loss: 0.4908 - val_acc: 0.7837\n",
      "Epoch 50/50\n",
      "125/125 [==============================] - 154s 1s/step - loss: 0.4021 - acc: 0.8345 - val_loss: 0.4546 - val_acc: 0.7975\n"
     ]
    },
    {
     "data": {
      "text/plain": [
       "<keras.callbacks.History at 0x7f7ab0c17b38>"
      ]
     },
     "execution_count": 6,
     "metadata": {},
     "output_type": "execute_result"
    }
   ],
   "source": [
    "model.fit_generator(train_generator,\n",
    "    steps_per_epoch=train_samples // batch_size,\n",
    "    epochs=epochs,\n",
    "    validation_data=validation_generator,\n",
    "    validation_steps=validation_samples // batch_size)"
   ]
  },
  {
   "cell_type": "markdown",
   "metadata": {},
   "source": [
    "### Evaluating on validation set\n",
    "\n",
    "Computing loss and accuracy :\n"
   ]
  },
  {
   "cell_type": "code",
   "execution_count": 11,
   "metadata": {},
   "outputs": [
    {
     "data": {
      "text/plain": [
       "[0.45417840110538993, 0.79785544082605242]"
      ]
     },
     "execution_count": 11,
     "metadata": {},
     "output_type": "execute_result"
    }
   ],
   "source": [
    "model.evaluate_generator(validation_generator, validation_samples)"
   ]
  },
  {
   "cell_type": "code",
   "execution_count": null,
   "metadata": {},
   "outputs": [],
   "source": [
    "\n",
    "\n",
    "\n",
    "\n",
    "\n",
    "\n",
    "\n",
    "\n",
    "\n"
   ]
  }
 ],
 "metadata": {
  "kernelspec": {
   "display_name": "Python 3",
   "language": "python",
   "name": "python3"
  },
  "language_info": {
   "codemirror_mode": {
    "name": "ipython",
    "version": 3
   },
   "file_extension": ".py",
   "mimetype": "text/x-python",
   "name": "python",
   "nbconvert_exporter": "python",
   "pygments_lexer": "ipython3",
   "version": "3.5.2"
  }
 },
 "nbformat": 4,
 "nbformat_minor": 2
}
